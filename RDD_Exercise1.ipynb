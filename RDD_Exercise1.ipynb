{
 "cells": [
  {
   "cell_type": "markdown",
   "metadata": {},
   "source": [
    "### Verify Spark Context object\n",
    "Check whether spark context is available. If there is an exception, you have to troubleshoot. Otherwise, good to go ahead."
   ]
  },
  {
   "cell_type": "markdown",
   "metadata": {},
   "source": [
    "### Exercise 1:\n",
    "\n",
    "1. Create a directory in HDFS (/user/cloudera/movielens/) called movielens and load movies.csv and ratings.csv from ~/Downloads/datasets/movie-lens directory.  \n",
    "2. Load movies.csv into in moviesRdd\n",
    "3. Load ratings.csv into ratingsRdd\n",
    "4. Find out 10 top movies based on the highest average rating. Consider only those movies that have got at least 100 ratings.\n"
   ]
  },
  {
   "cell_type": "code",
   "execution_count": 9,
   "metadata": {},
   "outputs": [
    {
     "name": "stdout",
     "output_type": "stream",
     "text": [
      "total 3424\r\n",
      "-rw-r--r-- 1 cloudera cloudera  207997 Jul  2 20:49 links.csv\r\n",
      "-rw-r--r-- 1 cloudera cloudera  515700 Jul  2 20:49 movies.csv\r\n",
      "-rw-r--r-- 1 cloudera cloudera 2580392 Jul  2 20:49 ratings.csv\r\n",
      "-rw-r--r-- 1 cloudera cloudera  199073 Jul  2 20:49 tags.csv\r\n"
     ]
    }
   ],
   "source": [
    "movies = sc.textFile(\"/user/cloudera/movielens/movies.csv\")\n",
    "movies.count()"
   ]
  },
  {
   "cell_type": "code",
   "execution_count": 11,
   "metadata": {},
   "outputs": [
    {
     "name": "stdout",
     "output_type": "stream",
     "text": [
      "movieId,title,genres\n",
      "1,Toy Story (1995),Adventure|Animation|Children|Comedy|Fantasy\n",
      "2,Jumanji (1995),Adventure|Children|Fantasy\n",
      "3,Grumpier Old Men (1995),Comedy|Romance\n",
      "4,Waiting to Exhale (1995),Comedy|Drama|Romance\n",
      "5,Father of the Bride Part II (1995),Comedy\n",
      "6,Heat (1995),Action|Crime|Thriller\n",
      "7,Sabrina (1995),Comedy|Romance\n",
      "8,Tom and Huck (1995),Adventure|Children\n",
      "9,Sudden Death (1995),Action\n"
     ]
    }
   ],
   "source": [
    "for r in movies.take(10):\n",
    "    print(r)"
   ]
  },
  {
   "cell_type": "code",
   "execution_count": 12,
   "metadata": {},
   "outputs": [
    {
     "name": "stdout",
     "output_type": "stream",
     "text": [
      "1,Toy Story (1995),Adventure|Animation|Children|Comedy|Fantasy\n",
      "2,Jumanji (1995),Adventure|Children|Fantasy\n",
      "3,Grumpier Old Men (1995),Comedy|Romance\n",
      "4,Waiting to Exhale (1995),Comedy|Drama|Romance\n",
      "5,Father of the Bride Part II (1995),Comedy\n",
      "6,Heat (1995),Action|Crime|Thriller\n",
      "7,Sabrina (1995),Comedy|Romance\n",
      "8,Tom and Huck (1995),Adventure|Children\n",
      "9,Sudden Death (1995),Action\n",
      "10,GoldenEye (1995),Action|Adventure|Thriller\n"
     ]
    }
   ],
   "source": [
    "moviesData = movies.filter(lambda line: not line.startswith(\"movieId\"))\n",
    "for r in moviesData.take(10):\n",
    "    print(r)"
   ]
  },
  {
   "cell_type": "code",
   "execution_count": 13,
   "metadata": {},
   "outputs": [
    {
     "data": {
      "text/plain": [
       "105340"
      ]
     },
     "execution_count": 13,
     "metadata": {},
     "output_type": "execute_result"
    }
   ],
   "source": [
    "ratings = sc.textFile(\"/user/cloudera/movielens/ratings\")\n",
    "ratings.count()"
   ]
  },
  {
   "cell_type": "code",
   "execution_count": 14,
   "metadata": {},
   "outputs": [
    {
     "name": "stdout",
     "output_type": "stream",
     "text": [
      "userId,movieId,rating,timestamp\n",
      "1,16,4.0,1217897793\n",
      "1,24,1.5,1217895807\n",
      "1,32,4.0,1217896246\n",
      "1,47,4.0,1217896556\n",
      "1,50,4.0,1217896523\n",
      "1,110,4.0,1217896150\n",
      "1,150,3.0,1217895940\n",
      "1,161,4.0,1217897864\n",
      "1,165,3.0,1217897135\n"
     ]
    }
   ],
   "source": [
    "for r in ratings.take(10):\n",
    "    print(r)"
   ]
  },
  {
   "cell_type": "code",
   "execution_count": 15,
   "metadata": {},
   "outputs": [
    {
     "name": "stdout",
     "output_type": "stream",
     "text": [
      "1,16,4.0,1217897793\n",
      "1,24,1.5,1217895807\n",
      "1,32,4.0,1217896246\n",
      "1,47,4.0,1217896556\n",
      "1,50,4.0,1217896523\n",
      "1,110,4.0,1217896150\n",
      "1,150,3.0,1217895940\n",
      "1,161,4.0,1217897864\n",
      "1,165,3.0,1217897135\n",
      "1,204,0.5,1217895786\n"
     ]
    }
   ],
   "source": [
    "ratingsData = ratings.filter(lambda line: not line.startswith(\"userId\"))\n",
    "for r in ratingsData.take(10):\n",
    "    print(r)"
   ]
  },
  {
   "cell_type": "code",
   "execution_count": 16,
   "metadata": {},
   "outputs": [
    {
     "data": {
      "text/plain": [
       "'movieId,title,genres'"
      ]
     },
     "execution_count": 16,
     "metadata": {},
     "output_type": "execute_result"
    }
   ],
   "source": [
    "movies.first()"
   ]
  },
  {
   "cell_type": "code",
   "execution_count": 17,
   "metadata": {},
   "outputs": [
    {
     "data": {
      "text/plain": [
       "'userId,movieId,rating,timestamp'"
      ]
     },
     "execution_count": 17,
     "metadata": {},
     "output_type": "execute_result"
    }
   ],
   "source": [
    "ratings.first()"
   ]
  },
  {
   "cell_type": "code",
   "execution_count": 18,
   "metadata": {},
   "outputs": [
    {
     "data": {
      "text/plain": [
       "(1, 'Toy Story (1995)')"
      ]
     },
     "execution_count": 18,
     "metadata": {},
     "output_type": "execute_result"
    }
   ],
   "source": [
    "movies_by_movieid = moviesData\\\n",
    ".map(lambda line: line.split(\",\"))\\\n",
    ".map(lambda tokens: (int(tokens[0]), tokens[1]))\n",
    "\n",
    "movies_by_movieid.first()"
   ]
  },
  {
   "cell_type": "code",
   "execution_count": 19,
   "metadata": {},
   "outputs": [
    {
     "data": {
      "text/plain": [
       "(16, 4.0)"
      ]
     },
     "execution_count": 19,
     "metadata": {},
     "output_type": "execute_result"
    }
   ],
   "source": [
    "ratings_by_movieid = ratingsData\\\n",
    ".map(lambda line: line.split(\",\"))\\\n",
    ".map(lambda tokens: (int(tokens[1]), float(tokens[2])))\n",
    "\n",
    "ratings_by_movieid.first()"
   ]
  },
  {
   "cell_type": "code",
   "execution_count": 20,
   "metadata": {},
   "outputs": [
    {
     "name": "stdout",
     "output_type": "stream",
     "text": [
      "((318, '\"Shawshank Redemption'), (4.454545454545454, 308))\n",
      "((858, '\"Godfather'), (4.392857142857143, 210))\n",
      "((50, '\"Usual Suspects'), (4.328947368421052, 228))\n",
      "((1136, 'Monty Python and the Holy Grail (1975)'), (4.3019480519480515, 154))\n",
      "((527, \"Schindler's List (1993)\"), (4.296370967741935, 248))\n",
      "((1193, \"One Flew Over the Cuckoo's Nest (1975)\"), (4.2727272727272725, 143))\n",
      "((608, 'Fargo (1996)'), (4.2711442786069655, 201))\n",
      "((2571, '\"Matrix'), (4.264367816091954, 261))\n",
      "((1221, '\"Godfather: Part II'), (4.260714285714286, 140))\n",
      "((1213, 'Goodfellas (1990)'), (4.2592592592592595, 135))\n"
     ]
    }
   ],
   "source": [
    "top_10 = movies_by_movieid.join(ratings_by_movieid)\\\n",
    ".map(lambda p: ((p[0], p[1][0]), p[1][1]))\\\n",
    ".groupByKey().mapValues(lambda values: (sum(values)/len(values), len(values)))\\\n",
    ".filter(lambda p: p[1][1] >= 100)\\\n",
    ".sortBy(lambda p: p[1], False)\\\n",
    ".take(10)\n",
    "\n",
    "for m in top_10:\n",
    "    print(m)"
   ]
  },
  {
   "cell_type": "code",
   "execution_count": 21,
   "metadata": {},
   "outputs": [
    {
     "data": {
      "text/plain": [
       "(4096, ('\"Curse', 4.0))"
      ]
     },
     "execution_count": 21,
     "metadata": {},
     "output_type": "execute_result"
    }
   ],
   "source": [
    "movies_by_movieid.join(ratings_by_movieid)\\\n",
    ".first()\n"
   ]
  },
  {
   "cell_type": "code",
   "execution_count": 22,
   "metadata": {},
   "outputs": [
    {
     "data": {
      "text/plain": [
       "((4096, '\"Curse'), 4.0)"
      ]
     },
     "execution_count": 22,
     "metadata": {},
     "output_type": "execute_result"
    }
   ],
   "source": [
    "movies_by_movieid.join(ratings_by_movieid)\\\n",
    ".map(lambda p: ((p[0], p[1][0]), p[1][1]))\\\n",
    ".first()\n"
   ]
  },
  {
   "cell_type": "code",
   "execution_count": 23,
   "metadata": {},
   "outputs": [
    {
     "data": {
      "text/plain": [
       "((1036, 'Die Hard (1988)'), (3.918181818181818, 165))"
      ]
     },
     "execution_count": 23,
     "metadata": {},
     "output_type": "execute_result"
    }
   ],
   "source": [
    "top_10 = movies_by_movieid.join(ratings_by_movieid)\\\n",
    ".map(lambda p: ((p[0], p[1][0]), p[1][1]))\\\n",
    ".groupByKey().mapValues(lambda values: (sum(values)/len(values), len(values)))\\\n",
    ".filter(lambda p: p[1][1] >= 100)\n",
    "\n",
    "top_10.first()"
   ]
  },
  {
   "cell_type": "code",
   "execution_count": 24,
   "metadata": {},
   "outputs": [
    {
     "name": "stdout",
     "output_type": "stream",
     "text": [
      "((318, '\"Shawshank Redemption'), (4.454545454545454, 308))\n",
      "((858, '\"Godfather'), (4.392857142857143, 210))\n",
      "((50, '\"Usual Suspects'), (4.328947368421052, 228))\n",
      "((1136, 'Monty Python and the Holy Grail (1975)'), (4.3019480519480515, 154))\n",
      "((527, \"Schindler's List (1993)\"), (4.296370967741935, 248))\n",
      "((1193, \"One Flew Over the Cuckoo's Nest (1975)\"), (4.2727272727272725, 143))\n",
      "((608, 'Fargo (1996)'), (4.2711442786069655, 201))\n",
      "((2571, '\"Matrix'), (4.264367816091954, 261))\n",
      "((1221, '\"Godfather: Part II'), (4.260714285714286, 140))\n",
      "((1213, 'Goodfellas (1990)'), (4.2592592592592595, 135))\n"
     ]
    }
   ],
   "source": [
    "top_10 = movies_by_movieid.join(ratings_by_movieid)\\\n",
    ".map(lambda p: ((p[0], p[1][0]), p[1][1]))\\\n",
    ".groupByKey().mapValues(lambda values: (sum(values)/len(values), len(values)))\\\n",
    ".filter(lambda p: p[1][1] >= 100)\\\n",
    ".sortBy(lambda p: p[1], False)\\\n",
    "\n",
    "for m in top_10.take(10):\n",
    "    print(m)"
   ]
  }
 ],
 "metadata": {
  "kernelspec": {
   "display_name": "Python 3",
   "language": "python",
   "name": "python3"
  },
  "language_info": {
   "codemirror_mode": {
    "name": "ipython",
    "version": 3
   },
   "file_extension": ".py",
   "mimetype": "text/x-python",
   "name": "python",
   "nbconvert_exporter": "python",
   "pygments_lexer": "ipython3",
   "version": "3.7.4"
  }
 },
 "nbformat": 4,
 "nbformat_minor": 2
}
