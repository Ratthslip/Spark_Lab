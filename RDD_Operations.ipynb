{
 "cells": [
  {
   "cell_type": "markdown",
   "metadata": {},
   "source": [
    "### View spark session"
   ]
  },
  {
   "cell_type": "code",
   "execution_count": 1,
   "metadata": {},
   "outputs": [
    {
     "data": {
      "text/plain": [
       "<pyspark.sql.session.SparkSession at 0x7f041c01f1d0>"
      ]
     },
     "execution_count": 1,
     "metadata": {},
     "output_type": "execute_result"
    }
   ],
   "source": [
    "spark"
   ]
  },
  {
   "cell_type": "markdown",
   "metadata": {},
   "source": [
    "# Exercise3: WordCount Program"
   ]
  },
  {
   "cell_type": "code",
   "execution_count": 3,
   "metadata": {
    "collapsed": true
   },
   "outputs": [],
   "source": [
    "# Create an RDD for data stored in HDFS. Change the path to where you have data.\n",
    "poems = sc.textFile(\"/user/cloudera/words.txt\")"
   ]
  },
  {
   "cell_type": "code",
   "execution_count": 4,
   "metadata": {},
   "outputs": [
    {
     "data": {
      "text/plain": [
       "8"
      ]
     },
     "execution_count": 4,
     "metadata": {},
     "output_type": "execute_result"
    }
   ],
   "source": [
    "# Find number of records in poems RDD\n",
    "poems.count()"
   ]
  },
  {
   "cell_type": "code",
   "execution_count": 5,
   "metadata": {},
   "outputs": [
    {
     "data": {
      "text/plain": [
       "'Warm summer sun,'"
      ]
     },
     "execution_count": 5,
     "metadata": {},
     "output_type": "execute_result"
    }
   ],
   "source": [
    "# Find first record in the RDD\n",
    "poems.first()"
   ]
  },
  {
   "cell_type": "code",
   "execution_count": 6,
   "metadata": {},
   "outputs": [
    {
     "data": {
      "text/plain": [
       "['Warm summer sun,',\n",
       " 'Shine kindly here,',\n",
       " 'Warm southern wind,',\n",
       " 'Blow softly here.',\n",
       " 'Green sod above,']"
      ]
     },
     "execution_count": 6,
     "metadata": {},
     "output_type": "execute_result"
    }
   ],
   "source": [
    "poems.take(5)"
   ]
  },
  {
   "cell_type": "code",
   "execution_count": 7,
   "metadata": {},
   "outputs": [
    {
     "data": {
      "text/plain": [
       "['Warm summer sun,',\n",
       " 'Shine kindly here,',\n",
       " 'Warm southern wind,',\n",
       " 'Blow softly here.',\n",
       " 'Green sod above,',\n",
       " 'Lie light, lie light.',\n",
       " 'Good night, dear heart,',\n",
       " 'Good night, good night.']"
      ]
     },
     "execution_count": 7,
     "metadata": {},
     "output_type": "execute_result"
    }
   ],
   "source": [
    "poems.collect()"
   ]
  },
  {
   "cell_type": "code",
   "execution_count": 8,
   "metadata": {},
   "outputs": [
    {
     "data": {
      "text/plain": [
       "[('here.', 1),\n",
       " ('good', 3),\n",
       " ('lie', 2),\n",
       " ('green', 1),\n",
       " ('light,', 1),\n",
       " ('above,', 1),\n",
       " ('here,', 1),\n",
       " ('summer', 1),\n",
       " ('night.', 1),\n",
       " ('night,', 2),\n",
       " ('shine', 1),\n",
       " ('blow', 1),\n",
       " ('wind,', 1),\n",
       " ('southern', 1),\n",
       " ('sun,', 1),\n",
       " ('kindly', 1),\n",
       " ('dear', 1),\n",
       " ('heart,', 1),\n",
       " ('softly', 1),\n",
       " ('warm', 2),\n",
       " ('sod', 1),\n",
       " ('light.', 1)]"
      ]
     },
     "execution_count": 8,
     "metadata": {},
     "output_type": "execute_result"
    }
   ],
   "source": [
    "poems.flatMap(lambda line: line.split(r\" \"))\\\n",
    ".map(lambda word: (word, 1))\\\n",
    ".reduceByKey(lambda a,b: a+b)\\\n",
    ".collect()\\\n",
    ".saveAsTextFile(\"output2.txt\")"
   ]
  },
  {
   "cell_type": "code",
   "execution_count": null,
   "metadata": {
    "collapsed": true
   },
   "outputs": [],
   "source": []
  }
 ],
 "metadata": {
  "kernelspec": {
   "display_name": "Python 3",
   "language": "python",
   "name": "python3"
  },
  "language_info": {
   "codemirror_mode": {
    "name": "ipython",
    "version": 3
   },
   "file_extension": ".py",
   "mimetype": "text/x-python",
   "name": "python",
   "nbconvert_exporter": "python",
   "pygments_lexer": "ipython3",
   "version": "3.7.4"
  }
 },
 "nbformat": 4,
 "nbformat_minor": 2
}
